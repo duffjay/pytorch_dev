{
 "cells": [
  {
   "cell_type": "markdown",
   "id": "ba68dfb4",
   "metadata": {},
   "source": [
    "# Chapter 2\n",
    "## Time Series Example"
   ]
  },
  {
   "cell_type": "code",
   "execution_count": 1,
   "id": "48c83933",
   "metadata": {},
   "outputs": [],
   "source": [
    "import random\n",
    "from math import sin, cos\n",
    "import matplotlib.pyplot as plt\n",
    "import torch"
   ]
  },
  {
   "cell_type": "markdown",
   "id": "04075833",
   "metadata": {},
   "source": [
    "### set up CUDA"
   ]
  },
  {
   "cell_type": "code",
   "execution_count": 2,
   "id": "3aaf6957",
   "metadata": {},
   "outputs": [
    {
     "name": "stdout",
     "output_type": "stream",
     "text": [
      "cuda:0\n"
     ]
    }
   ],
   "source": [
    "torch.cuda.is_available()\n",
    "device = torch.device(\"cuda:0\" if torch.cuda.is_available() else \"cpu\")\n",
    "print (device)\n",
    "\n",
    "use_cuda = False\n",
    "if torch.cuda.is_available():\n",
    "    use_cuda = True\n",
    "    \n",
    "# override\n",
    "use_cuda = False"
   ]
  },
  {
   "cell_type": "code",
   "execution_count": 3,
   "id": "809e5fc0",
   "metadata": {},
   "outputs": [],
   "source": [
    "def get_time_series_data(length):\n",
    "    a = 0.2\n",
    "    b = 300\n",
    "    c = 20\n",
    "    ls = 5\n",
    "    ms = 20\n",
    "    gs = 100\n",
    "    ts = []\n",
    "    for i in range (length):\n",
    "        ts.append(b + a * i + ls * sin(i/5) + ms * cos(i/24) + gs * sin(i/120) + c * random.random())\n",
    "\n",
    "    return ts"
   ]
  },
  {
   "cell_type": "code",
   "execution_count": 4,
   "id": "28620bed",
   "metadata": {},
   "outputs": [
    {
     "name": "stdout",
     "output_type": "stream",
     "text": [
      "data sample: 330.16568301945574\n"
     ]
    }
   ],
   "source": [
    "data = get_time_series_data(3000)\n",
    "print (f'data sample: {data[0]}')"
   ]
  },
  {
   "cell_type": "code",
   "execution_count": 5,
   "id": "1948878c",
   "metadata": {},
   "outputs": [
    {
     "data": {
      "image/png": "[encoded data removed]",
      "text/plain": [
       "<Figure size 432x288 with 1 Axes>"
      ]
     },
     "metadata": {
      "needs_background": "light"
     },
     "output_type": "display_data"
    }
   ],
   "source": [
    "plt.plot(data)\n",
    "plt.show()"
   ]
  },
  {
   "cell_type": "code",
   "execution_count": 6,
   "id": "115338d3",
   "metadata": {},
   "outputs": [],
   "source": [
    "import torch\n",
    "from sklearn.model_selection import train_test_split"
   ]
  },
  {
   "cell_type": "markdown",
   "id": "50e0911c",
   "metadata": {},
   "source": [
    "## train, validation & test datasets"
   ]
  },
  {
   "cell_type": "code",
   "execution_count": 7,
   "id": "646879b1",
   "metadata": {},
   "outputs": [],
   "source": [
    "def get_time_series_datasets(features, ts_len):\n",
    "    '''\n",
    "    get train\n",
    "        validation\n",
    "        test\n",
    "    \n",
    "    -- example\n",
    "    get 3000 values\n",
    "    features = 256, or how many sequential points\n",
    "    thus, X = the list (length = features) of points\n",
    "          Y = the next point\n",
    "    '''\n",
    "    ts = get_time_series_data(ts_len)\n",
    "\n",
    "    X = []\n",
    "    Y = []\n",
    "    print (f'range({features + 1}:{ts_len})')\n",
    "    n = 0\n",
    "    \n",
    "    for i in range(features + 1, ts_len):\n",
    "        X.append(ts[i - (features + 1):i - 1])    # (256+1) - (256+1):(256+1) - 1 == 0:256, thus x = window of 256\n",
    "        Y.append([ts[i]])                           # 256+1 == the next value\n",
    "        \n",
    "        # print a sample of data\n",
    "        # -- delete -3, to turn on the print\n",
    "        if i == -3:  # (features + 1):\n",
    "            print (f'data sample: {i} {ts[i]}')\n",
    "            print (f'X[i]: {i - (features + 1)}:{i - 1} {X[0]}')\n",
    "            print (f'Y[i]: {Y[0]}')\n",
    "        n = n + 1\n",
    "    \n",
    "    print (f'n: {ts_len - features } {n}  70/30 split: = {n * 0.7}:{n * 0.3}')\n",
    "    X_train, X_test, Y_train, Y_test = train_test_split(X, Y, test_size = 0.3, shuffle = False)\n",
    "    X_val, X_test, Y_val, Y_test = train_test_split(X_test, Y_test, test_size = 0.5, shuffle = False)\n",
    "    \n",
    "\n",
    "    print (f'X_train: {len(X_train)} {len(X_train[0])}')\n",
    "    x_train = torch.tensor(data = X_train)\n",
    "    y_train = torch.tensor(data = Y_train)\n",
    "    \n",
    "    x_val = torch.tensor(data = X_val)\n",
    "    y_val = torch.tensor(data = Y_val)\n",
    "    \n",
    "    x_test = torch.tensor(data = X_test)\n",
    "    y_test = torch.tensor(data = Y_test)\n",
    "    \n",
    "    return x_train, x_val, x_test, y_train, y_val, y_test\n",
    "    \n",
    "    "
   ]
  },
  {
   "cell_type": "code",
   "execution_count": 8,
   "id": "e57be379",
   "metadata": {},
   "outputs": [
    {
     "name": "stdout",
     "output_type": "stream",
     "text": [
      "range(257:3000)\n",
      "n: 2744 2743  70/30 split: = 1920.1:822.9\n",
      "X_train: 1920 256\n",
      "<class 'torch.Tensor'> torch.Size([1920, 256])\n"
     ]
    }
   ],
   "source": [
    "# test our function\n",
    "features = 256\n",
    "ts_len = 3_000\n",
    "x_train, x_val, x_test, y_train, y_val, y_test = get_time_series_datasets(features, ts_len)\n",
    "print (type(x_train), x_train.size())"
   ]
  },
  {
   "cell_type": "markdown",
   "id": "3e705d32",
   "metadata": {},
   "source": [
    "## Predictors"
   ]
  },
  {
   "cell_type": "code",
   "execution_count": 9,
   "id": "eed922bf",
   "metadata": {},
   "outputs": [],
   "source": [
    "import torch.nn.functional as F\n",
    "import numpy as np\n",
    "from scipy import interpolate\n",
    "from statsmodels.tsa.holtwinters import ExponentialSmoothing"
   ]
  },
  {
   "cell_type": "markdown",
   "id": "1d5c87d9",
   "metadata": {},
   "source": [
    "### Fully Connected Neural Network (NN)"
   ]
  },
  {
   "cell_type": "code",
   "execution_count": 10,
   "id": "909e47f4",
   "metadata": {},
   "outputs": [],
   "source": [
    "# liniear \n",
    "# fully connected\n",
    "\n",
    "class FCNN(torch.nn.Module):\n",
    "    def __init__(self, n_inp, l_1, l_2, n_out):\n",
    "        super(FCNN, self).__init__()\n",
    "        self.lin1 = torch.nn.Linear(n_inp,l_1)\n",
    "        self.lin2 = torch.nn.Linear(l_1, l_2)\n",
    "        self.lin3 = torch.nn.Linear(l_2, n_out)\n",
    "        \n",
    "    def forward(self, x):\n",
    "        x1 = F.relu(self.lin1(x))\n",
    "        x2 = F.relu(self.lin2(x1))\n",
    "        y = self.lin3(x2)\n",
    "        return y"
   ]
  },
  {
   "cell_type": "markdown",
   "id": "bb781944",
   "metadata": {},
   "source": [
    "### Dummy Predictor"
   ]
  },
  {
   "cell_type": "code",
   "execution_count": 11,
   "id": "0ae0808e",
   "metadata": {},
   "outputs": [],
   "source": [
    "# forecast = last value\n",
    "\n",
    "class DummyPredictor(torch.nn.Module):\n",
    "    def forward(self, x):\n",
    "        '''\n",
    "        input will be a list, length = features,\n",
    "        '''\n",
    "        last_values = []\n",
    "        for r in x.tolist():             # convert to a list\n",
    "            last_values.append([r[-1]])\n",
    "            \n",
    "        # return tensor\n",
    "        prediction_tensor = torch.tensor(data = last_values)\n",
    "        if use_cuda:\n",
    "            prediction_tensor = prediction_tensor.to(device)\n",
    "            \n",
    "        return prediction_tensor"
   ]
  },
  {
   "cell_type": "markdown",
   "id": "0df1af5e",
   "metadata": {},
   "source": [
    "### Interpolator Predictor"
   ]
  },
  {
   "cell_type": "code",
   "execution_count": 12,
   "id": "984bfdc9",
   "metadata": {},
   "outputs": [],
   "source": [
    "class InterpolationPredictor(torch.nn.Module):\n",
    "    def forward(self, x):\n",
    "        \n",
    "        last_values = []\n",
    "        values = x.tolist()    # list of lists, ex. 1920 rows, 256 values in each row\n",
    "        \n",
    "        for v in values:\n",
    "            '''\n",
    "            v is a list of 256 floats\n",
    "            '''\n",
    "            x = np.arange(0, len(v))     #  x = [0,... 256]\n",
    "            # interpolate function\n",
    "            # x = the range or index, which provides a spacing\n",
    "            # y = the values, across the index range\n",
    "            # returns the interpolated value\n",
    "            y = interpolate.interp1d(x,v, fill_value = 'extrapolate')\n",
    "            last_values.append([y(len(v)).tolist()])\n",
    "        \n",
    "        prediction_tensor = torch.tensor(data=last_values)\n",
    "        if use_cuda:\n",
    "            prediction_tensor = prediction_tensor.to(device)\n",
    "            \n",
    "        return prediction_tensor"
   ]
  },
  {
   "cell_type": "markdown",
   "id": "1f4deec4",
   "metadata": {},
   "source": [
    "### HWES Method"
   ]
  },
  {
   "cell_type": "code",
   "execution_count": 13,
   "id": "aab76158",
   "metadata": {},
   "outputs": [],
   "source": [
    "class HwesPredictor(torch.nn.Module):\n",
    "    def forward(self, x):\n",
    "        last_values = []\n",
    "        for r in x.tolist():\n",
    "            model = ExponentialSmoothing(r)\n",
    "            results = model.fit()\n",
    "            forecast = results.forecast()\n",
    "            last_values.append([forecast[0]])\n",
    "            \n",
    "        prediction_tensor = torch.tensor(data=last_values)\n",
    "        if use_cuda:\n",
    "            prediction_tensor = prediction_tensor.to(device)\n",
    "            \n",
    "        return prediction_tensor"
   ]
  },
  {
   "cell_type": "markdown",
   "id": "c59bc221",
   "metadata": {},
   "source": [
    "# Full Example"
   ]
  },
  {
   "cell_type": "code",
   "execution_count": 14,
   "id": "14c93a9c",
   "metadata": {},
   "outputs": [],
   "source": [
    "import copy\n",
    "from time import perf_counter\n"
   ]
  },
  {
   "cell_type": "code",
   "execution_count": 15,
   "id": "78f6b723",
   "metadata": {},
   "outputs": [
    {
     "data": {
      "text/plain": [
       "<torch._C.Generator at 0x7fef5163ca50>"
      ]
     },
     "execution_count": 15,
     "metadata": {},
     "output_type": "execute_result"
    }
   ],
   "source": [
    "random.seed(1)\n",
    "torch.manual_seed(1)"
   ]
  },
  {
   "cell_type": "code",
   "execution_count": 16,
   "id": "9f719e86",
   "metadata": {},
   "outputs": [],
   "source": [
    "# parameters\n",
    "features = 256\n",
    "ts_len = 3_000"
   ]
  },
  {
   "cell_type": "code",
   "execution_count": 17,
   "id": "d8e37b71",
   "metadata": {},
   "outputs": [
    {
     "name": "stdout",
     "output_type": "stream",
     "text": [
      "range(257:3000)\n",
      "n: 2744 2743  70/30 split: = 1920.1:822.9\n",
      "X_train: 1920 256\n"
     ]
    }
   ],
   "source": [
    "# datasets\n",
    "x_train, x_val, x_test, y_train, y_val, y_test = get_time_series_datasets(features, ts_len)"
   ]
  },
  {
   "cell_type": "code",
   "execution_count": 18,
   "id": "2224e173",
   "metadata": {},
   "outputs": [],
   "source": [
    "if use_cuda:\n",
    "    load_start = perf_counter()\n",
    "    x_train = x_train.to(device)\n",
    "    x_val = x_val.to(device)\n",
    "    x_test = x_test.to(device)\n",
    "    \n",
    "    y_train = y_train.to(device)\n",
    "    y_val = y_val.to(device)\n",
    "    y_test = y_test.to(device)\n",
    "    \n",
    "    print (f'load time: {perf_counter() - load_start}')\n",
    "    "
   ]
  },
  {
   "cell_type": "markdown",
   "id": "24e9e54e",
   "metadata": {},
   "source": [
    "### Neural Net"
   ]
  },
  {
   "cell_type": "code",
   "execution_count": 19,
   "id": "425706b3",
   "metadata": {},
   "outputs": [
    {
     "data": {
      "text/plain": [
       "FCNN(\n",
       "  (lin1): Linear(in_features=256, out_features=64, bias=True)\n",
       "  (lin2): Linear(in_features=64, out_features=32, bias=True)\n",
       "  (lin3): Linear(in_features=32, out_features=1, bias=True)\n",
       ")"
      ]
     },
     "execution_count": 19,
     "metadata": {},
     "output_type": "execute_result"
    }
   ],
   "source": [
    "# neural net\n",
    "# layer 1 = 64 nodes\n",
    "# layer 2 = 32 nodes\n",
    "net = FCNN(n_inp = features, l_1 = 64, l_2 = 32, n_out = 1)\n",
    "\n",
    "if use_cuda:\n",
    "    net.to(device)\n",
    "    \n",
    "net.train()"
   ]
  },
  {
   "cell_type": "markdown",
   "id": "d58d8f70",
   "metadata": {},
   "source": [
    "## Dummy Predictor"
   ]
  },
  {
   "cell_type": "code",
   "execution_count": 20,
   "id": "bd57f3a8",
   "metadata": {},
   "outputs": [],
   "source": [
    "dummy_predictor = DummyPredictor()\n",
    "\n",
    "# this will copy the model to GPU\n",
    "if use_cuda:\n",
    "    print ('dummy predictor to GPU')\n",
    "    dummy_predictor.to(device)"
   ]
  },
  {
   "cell_type": "markdown",
   "id": "cf3aa9db",
   "metadata": {},
   "source": [
    "## Interpolation Predictor"
   ]
  },
  {
   "cell_type": "code",
   "execution_count": 21,
   "id": "322ce4b2",
   "metadata": {},
   "outputs": [],
   "source": [
    "interpolation_predictor = InterpolationPredictor()\n",
    "\n",
    "if use_cuda:\n",
    "    print ('inpolation predictor to GPU')\n",
    "    interpolation_predictor.to(device)"
   ]
  },
  {
   "cell_type": "markdown",
   "id": "51da2126",
   "metadata": {},
   "source": [
    "## HWES Predictor"
   ]
  },
  {
   "cell_type": "code",
   "execution_count": 22,
   "id": "c7b68a58",
   "metadata": {},
   "outputs": [],
   "source": [
    "hwes_predictor = HwesPredictor()\n",
    "\n",
    "if use_cuda:\n",
    "    print ('hwes predictor to GPU')\n",
    "    hwes_predictor.to(device)"
   ]
  },
  {
   "cell_type": "markdown",
   "id": "23905fd4",
   "metadata": {},
   "source": [
    "## Optimizer & Loss"
   ]
  },
  {
   "cell_type": "code",
   "execution_count": 23,
   "id": "c7a82ab9",
   "metadata": {},
   "outputs": [],
   "source": [
    "optimizer = torch.optim.Adam(params = net.parameters())      # from neural net\n",
    "loss_func = torch.nn.MSELoss()"
   ]
  },
  {
   "cell_type": "code",
   "execution_count": 24,
   "id": "ba470e77",
   "metadata": {},
   "outputs": [],
   "source": [
    "best_model = None\n",
    "min_val_loss = 1_000_000"
   ]
  },
  {
   "cell_type": "code",
   "execution_count": 25,
   "id": "71f9f9fc",
   "metadata": {},
   "outputs": [],
   "source": [
    "training_loss = []\n",
    "validation_loss = []"
   ]
  },
  {
   "cell_type": "markdown",
   "id": "e85d791e",
   "metadata": {},
   "source": [
    "# Training"
   ]
  },
  {
   "cell_type": "markdown",
   "id": "e266851f",
   "metadata": {},
   "source": [
    "## FCNN Model first"
   ]
  },
  {
   "cell_type": "code",
   "execution_count": 26,
   "id": "c8248b2c",
   "metadata": {},
   "outputs": [],
   "source": [
    "training_steps = 10_000"
   ]
  },
  {
   "cell_type": "markdown",
   "id": "de36a4c1",
   "metadata": {},
   "source": [
    "### Performance\n",
    "withOUT CUDA:  65.3s  \n",
    "with CUDA:     14.5s,  35% memory 80% GPU, 10K steps, train 16.5K val 70.5K  "
   ]
  },
  {
   "cell_type": "code",
   "execution_count": 27,
   "id": "aa9756e1",
   "metadata": {},
   "outputs": [
    {
     "name": "stdout",
     "output_type": "stream",
     "text": [
      "epoch(0): train - 287261.5938, val: - 468011.875\n",
      "epoch(1000): train - 150.4288, val: - 147.0818\n",
      "epoch(2000): train - 42.3347, val: - 42.9626\n",
      "epoch(3000): train - 37.5835, val: - 39.7349\n",
      "epoch(4000): train - 35.6573, val: - 38.5357\n",
      "epoch(5000): train - 35.1315, val: - 38.2831\n",
      "epoch(6000): train - 34.9567, val: - 37.9314\n",
      "epoch(7000): train - 43.5418, val: - 108.8146\n",
      "epoch(8000): train - 34.6519, val: - 38.1178\n",
      "epoch(9000): train - 34.6281, val: - 37.8734\n",
      "training time: 20.329826790984953\n"
     ]
    }
   ],
   "source": [
    "training_start = perf_counter()\n",
    "for t in range(training_steps):\n",
    "    prediction = net(x_train)\n",
    "    loss = loss_func(prediction, y_train)\n",
    "    \n",
    "    optimizer.zero_grad()\n",
    "    loss.backward()\n",
    "    optimizer.step()\n",
    "    \n",
    "    # val\n",
    "    val_prediction = net(x_val)\n",
    "    val_loss = loss_func(val_prediction, y_val)\n",
    "    \n",
    "    # loss\n",
    "    training_loss.append(loss.item())\n",
    "    validation_loss.append(val_loss.item())\n",
    "    \n",
    "    # keep best model\n",
    "    if val_loss.item() < min_val_loss:\n",
    "        best_model = copy.deepcopy(net)\n",
    "        min_val_loss = val_loss.item()\n",
    "    if t % 1000 == 0:\n",
    "        print (f'epoch({t}): train - {round(loss.item(), 4)}, val: - {round(val_loss.item(), 4)}')\n",
    " \n",
    "print (f'training time: {perf_counter() - training_start}')"
   ]
  },
  {
   "cell_type": "markdown",
   "id": "268a804f",
   "metadata": {},
   "source": [
    "## Evaluation"
   ]
  },
  {
   "cell_type": "code",
   "execution_count": 28,
   "id": "1658fac5",
   "metadata": {},
   "outputs": [],
   "source": [
    "# Get Preditions - fcnn\n",
    "net.eval()\n",
    "fcnn_best_model_predicton = best_model(x_test)\n",
    "fcnn_loss = loss_func(best_model(x_test), y_test).item()"
   ]
  },
  {
   "cell_type": "code",
   "execution_count": 29,
   "id": "ac149e1d",
   "metadata": {},
   "outputs": [],
   "source": [
    "# Dummy\n",
    "dummy_prediction = dummy_predictor(x_test)\n",
    "dummy_loss = loss_func(dummy_prediction, y_test).item()"
   ]
  },
  {
   "cell_type": "code",
   "execution_count": 30,
   "id": "8fcd829a",
   "metadata": {},
   "outputs": [],
   "source": [
    "# Linear Interpolation\n",
    "lin_interp_prediction = interpolation_predictor(x_test)\n",
    "lin_interp_loss = loss_func(lin_interp_prediction, y_test).item()"
   ]
  },
  {
   "cell_type": "code",
   "execution_count": 31,
   "id": "cddf7e9d",
   "metadata": {},
   "outputs": [],
   "source": [
    "# HWES\n",
    "hwes_prediction = hwes_predictor(x_test)\n",
    "hwes_loss = loss_func(hwes_prediction, y_test).item()"
   ]
  },
  {
   "cell_type": "code",
   "execution_count": 32,
   "id": "444bd80a",
   "metadata": {},
   "outputs": [
    {
     "name": "stdout",
     "output_type": "stream",
     "text": [
      "Testing\n",
      "FCNN Loss:  38.08213424682617\n",
      "Dummy Loss: 75.77690887451172\n",
      "Linear Interpolation Loss: 220.05862426757812\n",
      "HWES Loss:  59.23703140214984\n"
     ]
    }
   ],
   "source": [
    "#net.eval()\n",
    "print (f'Testing')\n",
    "print (f'FCNN Loss:  {fcnn_loss}')\n",
    "print (f'Dummy Loss: {dummy_loss}')\n",
    "print (f'Linear Interpolation Loss: {lin_interp_loss}')\n",
    "print (f'HWES Loss:  {loss_func(hwes_predictor(x_test), y_test).item()}')"
   ]
  },
  {
   "cell_type": "markdown",
   "id": "bfef295e",
   "metadata": {},
   "source": [
    "# Visualation"
   ]
  },
  {
   "cell_type": "code",
   "execution_count": 33,
   "id": "4ef9a58a",
   "metadata": {},
   "outputs": [
    {
     "data": {
      "image/png": "[encoded data removed]",
      "text/plain": [
       "<Figure size 432x288 with 1 Axes>"
      ]
     },
     "metadata": {
      "needs_background": "light"
     },
     "output_type": "display_data"
    }
   ],
   "source": [
    "plt.title(\"Training Progress\")\n",
    "plt.yscale(\"log\")\n",
    "plt.plot(training_loss, label = 'training loss')\n",
    "plt.plot(validation_loss, label = 'validation loss')\n",
    "plt.legend()\n",
    "plt.show()"
   ]
  },
  {
   "cell_type": "code",
   "execution_count": 35,
   "id": "58484d9c",
   "metadata": {},
   "outputs": [
    {
     "data": {
      "image/png": "[encoded data removed]",
      "text/plain": [
       "<Figure size 432x288 with 1 Axes>"
      ]
     },
     "metadata": {
      "needs_background": "light"
     },
     "output_type": "display_data"
    }
   ],
   "source": [
    "plt.title(\"FCNN on Train Dataset\")\n",
    "plt.plot(y_train, label = 'actual')\n",
    "plt.plot(best_model(x_train).tolist(), label = 'predicted')\n",
    "plt.legend()\n",
    "plt.show()"
   ]
  },
  {
   "cell_type": "code",
   "execution_count": 36,
   "id": "41f386e1",
   "metadata": {},
   "outputs": [
    {
     "data": {
      "image/png": "[encoded data removed]",
      "text/plain": [
       "<Figure size 432x288 with 1 Axes>"
      ]
     },
     "metadata": {
      "needs_background": "light"
     },
     "output_type": "display_data"
    }
   ],
   "source": [
    "plt.title('Test')\n",
    "plt.plot(y_test, '--', label = 'actual')\n",
    "plt.plot(best_model(x_test).tolist(), label = 'FCNN')\n",
    "plt.plot(hwes_predictor(x_test).tolist(), label = \"HWES\")\n",
    "plt.legend()\n",
    "plt.show()"
   ]
  },
  {
   "cell_type": "code",
   "execution_count": 37,
   "id": "8eff7301",
   "metadata": {},
   "outputs": [
    {
     "data": {
      "image/png": "[encoded data removed]",
      "text/plain": [
       "<Figure size 432x288 with 1 Axes>"
      ]
     },
     "metadata": {
      "needs_background": "light"
     },
     "output_type": "display_data"
    }
   ],
   "source": [
    "test_n = len(y_test)\n",
    "net_abs_dev = (best_model(x_test) - y_test).abs_()\n",
    "hwes_abs_dev = (hwes_predictor(x_test) - y_test).abs_()\n",
    "diff_pos = F.relu(hwes_abs_dev - net_abs_dev).reshape(test_n).tolist()\n",
    "diff_min = (-F.relu(net_abs_dev - hwes_abs_dev)).reshape(test_n).tolist()\n",
    "plt.title('HWES Predictor VS FCNN Predictor')\n",
    "plt.hlines(0, xmin = 0, xmax = test_n, linestyles = 'dashed')\n",
    "plt.bar(list(range(test_n)), diff_pos, color = 'g', label = 'FCNN Wins')\n",
    "plt.bar(list(range(test_n)), diff_min, color = 'r', label = 'HWES Wins')\n",
    "plt.legend()\n",
    "plt.show()"
   ]
  },
  {
   "cell_type": "code",
   "execution_count": null,
   "id": "83287bea",
   "metadata": {},
   "outputs": [],
   "source": []
  }
 ],
 "metadata": {
  "kernelspec": {
   "display_name": "pytorch",
   "language": "python",
   "name": "pytorch"
  },
  "language_info": {
   "codemirror_mode": {
    "name": "ipython",
    "version": 3
   },
   "file_extension": ".py",
   "mimetype": "text/x-python",
   "name": "python",
   "nbconvert_exporter": "python",
   "pygments_lexer": "ipython3",
   "version": "3.8.10"
  }
 },
 "nbformat": 4,
 "nbformat_minor": 5
}
