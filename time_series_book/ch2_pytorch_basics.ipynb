{
 "cells": [
  {
   "cell_type": "markdown",
   "id": "71ea5fb3",
   "metadata": {},
   "source": [
    "# Chapter 2\n",
    "## PyTorch Basic ConceptsChapter 05"
   ]
  },
  {
   "cell_type": "code",
   "execution_count": 1,
   "id": "53e845e1",
   "metadata": {},
   "outputs": [],
   "source": [
    "import torch"
   ]
  },
  {
   "cell_type": "code",
   "execution_count": 2,
   "id": "8ec4159b",
   "metadata": {},
   "outputs": [],
   "source": [
    "def get_function(x1_val = 0, x2_val = 0, x3_val = 0, x4_val = 0):\n",
    "    # variables\n",
    "    x1 = torch.tensor(x1_val, requires_grad = True, dtype = torch.float32)\n",
    "    x2 = torch.tensor(x2_val, requires_grad = True, dtype = torch.float32)\n",
    "    x3 = torch.tensor(x3_val, requires_grad = True, dtype = torch.float32)\n",
    "    x4 = torch.tensor(x3_val, requires_grad = True, dtype = torch.float32)\n",
    "    \n",
    "    # function\n",
    "    p1 = x1.pow(3)\n",
    "    m1 = p1 * x2\n",
    "    m2 = x3 * x4\n",
    "    f = m1 + m2\n",
    "    vars = {'x1': x1, 'x2': x2, 'x3': x3, 'x4': x4}\n",
    "    \n",
    "    return f, vars"
   ]
  },
  {
   "cell_type": "code",
   "execution_count": 3,
   "id": "d6cf5c8e",
   "metadata": {},
   "outputs": [
    {
     "name": "stdout",
     "output_type": "stream",
     "text": [
      "tensor(41., grad_fn=<AddBackward0>)\n",
      "41.0\n"
     ]
    }
   ],
   "source": [
    "f, _ = get_function(2,4,3,5)\n",
    "print (f)\n",
    "print (f.item())"
   ]
  },
  {
   "cell_type": "markdown",
   "id": "242edcd1",
   "metadata": {},
   "source": [
    "### ---- next exercise"
   ]
  },
  {
   "cell_type": "code",
   "execution_count": 4,
   "id": "605f8cbf",
   "metadata": {},
   "outputs": [],
   "source": [
    ", formatfrom ch2.dfdx.function import get_function\n",
    "from torchviz import make_dot\n",
    "import matplotlib.pyplot as plt\n",
    "import matplotlib.image as mpimg"
   ]
  },
  {
   "cell_type": "markdown",
   "id": "1525395f",
   "metadata": {},
   "source": [
    "## create computational graph"
   ]
  },
  {
   "cell_type": "code",
   "execution_count": 5,
   "id": "cf4e192e",
   "metadata": {},
   "outputs": [],
   "source": [
    "f, params = get_function(2,4,3,5)\n",
    "make_dot(f, params).render(\"f_torchvis\", format=\"png\")\n",
    "img = mpimg.imread('f_torchvis.png')"
   ]
  },
  {
   "cell_type": "code",
   "execution_count": 6,
   "id": "46049dd3",
   "metadata": {},
   "outputs": [
    {
     "data": {
      "text/plain": [
       "<matplotlib.image.AxesImage at 0x7fc6a365d370>"
      ]
     },
     "execution_count": 6,
     "metadata": {},
     "output_type": "execute_result"
    },
    {
     "data": {
      "image/png": "[encoded data removed]",
      "text/plain": [
       "<Figure size 432x288 with 1 Axes>"
      ]
     },
     "metadata": {},
     "output_type": "display_data"
    }
   ],
   "source": [
    "plt.xticks([])\n",
    "plt.yticks([])\n",
    "plt.imshow(img)"
   ]
  },
  {
   "cell_type": "markdown",
   "id": "2fe889bc",
   "metadata": {},
   "source": [
    "## Partial Derivative"
   ]
  },
  {
   "cell_type": "code",
   "execution_count": 10,
   "id": "a2635bf1",
   "metadata": {},
   "outputs": [],
   "source": [
    "from ch2.dfdx.function import get_function\n",
    "from torch.autograd import grad\n"
   ]
  },
  {
   "cell_type": "code",
   "execution_count": 11,
   "id": "c89f9fcb",
   "metadata": {},
   "outputs": [],
   "source": [
    "f, params = get_function(2,4,3,5)"
   ]
  },
  {
   "cell_type": "code",
   "execution_count": 12,
   "id": "fa9e6f1d",
   "metadata": {},
   "outputs": [
    {
     "name": "stdout",
     "output_type": "stream",
     "text": [
      "(tensor(48.),)\n"
     ]
    }
   ],
   "source": [
    "# function f\n",
    "# partial deriv with respect to x1\n",
    "\n",
    "# NOTE - you can't run this twice\n",
    "df_dx1 = grad(outputs = f, inputs = [params['x1']])\n",
    "print (df_dx1)"
   ]
  },
  {
   "cell_type": "markdown",
   "id": "fb35bcfb",
   "metadata": {},
   "source": [
    "## calculate gradient - full derivative df/dx"
   ]
  },
  {
   "cell_type": "code",
   "execution_count": 1,
   "id": "629db020",
   "metadata": {},
   "outputs": [],
   "source": [
    "from ch2.dfdx.function import get_function\n",
    "from torch.autograd import grad"
   ]
  },
  {
   "cell_type": "code",
   "execution_count": 2,
   "id": "9d23fd56",
   "metadata": {},
   "outputs": [],
   "source": [
    "f, params = get_function(2, 4, 3, 5)"
   ]
  },
  {
   "cell_type": "code",
   "execution_count": 5,
   "id": "5103362a",
   "metadata": {},
   "outputs": [
    {
     "name": "stdout",
     "output_type": "stream",
     "text": [
      "params: {'x1': tensor(2., requires_grad=True), 'x2': tensor(4., requires_grad=True), 'x3': tensor(3., requires_grad=True), 'x4': tensor(5., requires_grad=True)}\n"
     ]
    }
   ],
   "source": [
    "print (f'params: {params}')"
   ]
  },
  {
   "cell_type": "code",
   "execution_count": 7,
   "id": "50e58a67",
   "metadata": {},
   "outputs": [
    {
     "name": "stdout",
     "output_type": "stream",
     "text": [
      "params values: dict_values([tensor(2., requires_grad=True), tensor(4., requires_grad=True), tensor(3., requires_grad=True), tensor(5., requires_grad=True)])\n"
     ]
    }
   ],
   "source": [
    "print (f'params values: {params.values()}')"
   ]
  },
  {
   "cell_type": "code",
   "execution_count": 8,
   "id": "1b5446b3",
   "metadata": {},
   "outputs": [
    {
     "name": "stdout",
     "output_type": "stream",
     "text": [
      "(tensor(48.), tensor(8.), tensor(5.), tensor(3.))\n"
     ]
    }
   ],
   "source": [
    "df_dx = grad(outputs = f, inputs = params.values())\n",
    "print (df_dx)"
   ]
  },
  {
   "cell_type": "markdown",
   "id": "95ed7643",
   "metadata": {},
   "source": [
    "## Tensor Creation"
   ]
  },
  {
   "cell_type": "code",
   "execution_count": 13,
   "id": "9ade73d0",
   "metadata": {},
   "outputs": [],
   "source": [
    "import torch"
   ]
  },
  {
   "cell_type": "code",
   "execution_count": 14,
   "id": "af4551b5",
   "metadata": {},
   "outputs": [
    {
     "name": "stdout",
     "output_type": "stream",
     "text": [
      "tensor([1, 2, 3])\n"
     ]
    }
   ],
   "source": [
    "x = torch.tensor(data = [1,2,3])\n",
    "print (x)"
   ]
  },
  {
   "cell_type": "code",
   "execution_count": 15,
   "id": "42fe2266",
   "metadata": {},
   "outputs": [
    {
     "name": "stdout",
     "output_type": "stream",
     "text": [
      "tensor([[1, 2, 3],\n",
      "        [4, 5, 6]])\n"
     ]
    }
   ],
   "source": [
    "x2D = torch.tensor(data = [[1,2,3], [4,5,6]])\n",
    "print (x2D)"
   ]
  },
  {
   "cell_type": "code",
   "execution_count": 17,
   "id": "3d5ba95d",
   "metadata": {},
   "outputs": [
    {
     "name": "stdout",
     "output_type": "stream",
     "text": [
      "tensor([1.3000, 0.5000])\n"
     ]
    }
   ],
   "source": [
    "xF32 = torch.tensor(data = [1.3, 0.5], dtype = torch.float32)\n",
    "print (xF32)"
   ]
  },
  {
   "cell_type": "code",
   "execution_count": 18,
   "id": "41a9e43e",
   "metadata": {},
   "outputs": [
    {
     "name": "stdout",
     "output_type": "stream",
     "text": [
      "tensor([1.3000, 0.5000], requires_grad=True)\n"
     ]
    }
   ],
   "source": [
    "xF32g = torch.tensor(data = [1.3, 0.5], dtype = torch.float32, requires_grad=True)\n",
    "print (xF32g)"
   ]
  },
  {
   "cell_type": "markdown",
   "id": "f07e4da5",
   "metadata": {},
   "source": [
    "## 2-D Convolution"
   ]
  },
  {
   "cell_type": "code",
   "execution_count": 20,
   "id": "a7a71ca7",
   "metadata": {},
   "outputs": [],
   "source": [
    "import torch\n",
    "from torch.nn.parameter import Parameter"
   ]
  },
  {
   "cell_type": "code",
   "execution_count": 22,
   "id": "267b9467",
   "metadata": {},
   "outputs": [
    {
     "name": "stdout",
     "output_type": "stream",
     "text": [
      "tensor([[[[ 1.,  2.,  0.,  1.],\n",
      "          [-1.,  0.,  3.,  2.],\n",
      "          [ 1.,  3.,  0.,  1.],\n",
      "          [ 2., -2.,  1.,  0.]]]])\n"
     ]
    }
   ],
   "source": [
    "A = torch.tensor([[[[1, 2, 0, 1],\n",
    "                    [-1, 0, 3, 2],\n",
    "                    [1, 3, 0, 1],\n",
    "                    [2, -2, 1, 0]]]]).float()\n",
    "print (A)"
   ]
  },
  {
   "cell_type": "code",
   "execution_count": 25,
   "id": "fa62cebc",
   "metadata": {},
   "outputs": [],
   "source": [
    "conv2d = torch.nn.Conv2d(1,1, kernel_size=2, bias=False)\n",
    "conv2d.weight = Parameter(torch.tensor([[[[1,-1], [-1,1]]]]).float())"
   ]
  },
  {
   "cell_type": "code",
   "execution_count": 26,
   "id": "6be35635",
   "metadata": {},
   "outputs": [],
   "source": [
    "output = conv2d(A)"
   ]
  },
  {
   "cell_type": "code",
   "execution_count": 27,
   "id": "f7ace3d9",
   "metadata": {},
   "outputs": [
    {
     "name": "stdout",
     "output_type": "stream",
     "text": [
      "tensor([[[[ 0.,  5., -2.],\n",
      "          [ 1., -6.,  2.],\n",
      "          [-6.,  6., -2.]]]], grad_fn=<ThnnConv2DBackward0>)\n"
     ]
    }
   ],
   "source": [
    "print (output)"
   ]
  },
  {
   "cell_type": "markdown",
   "id": "686a31d4",
   "metadata": {},
   "source": [
    "## Loss Function"
   ]
  },
  {
   "cell_type": "code",
   "execution_count": 28,
   "id": "e5af5039",
   "metadata": {},
   "outputs": [],
   "source": [
    "import torch"
   ]
  },
  {
   "cell_type": "code",
   "execution_count": 33,
   "id": "107e5210",
   "metadata": {},
   "outputs": [],
   "source": [
    "a = torch.tensor([1,2]).float()\n",
    "b = torch.tensor([1,8]).float()"
   ]
  },
  {
   "cell_type": "code",
   "execution_count": 34,
   "id": "02142a9d",
   "metadata": {},
   "outputs": [
    {
     "name": "stdout",
     "output_type": "stream",
     "text": [
      "L1Loss()\n"
     ]
    }
   ],
   "source": [
    "abs_loss = torch.nn.L1Loss()\n",
    "print (abs_loss)"
   ]
  },
  {
   "cell_type": "code",
   "execution_count": 35,
   "id": "b90361b4",
   "metadata": {},
   "outputs": [
    {
     "name": "stdout",
     "output_type": "stream",
     "text": [
      "tensor(3.)\n"
     ]
    }
   ],
   "source": [
    "abs_error = abs_loss(a,b)\n",
    "print (abs_error)"
   ]
  },
  {
   "cell_type": "code",
   "execution_count": 36,
   "id": "591c8250",
   "metadata": {},
   "outputs": [
    {
     "name": "stdout",
     "output_type": "stream",
     "text": [
      "abs: 3.0\n"
     ]
    }
   ],
   "source": [
    "print(f'abs: {abs_error.item()}')"
   ]
  },
  {
   "cell_type": "code",
   "execution_count": null,
   "id": "74fa09c6",
   "metadata": {},
   "outputs": [],
   "source": []
  }
 ],
 "metadata": {
  "kernelspec": {
   "display_name": "pytorch",
   "language": "python",
   "name": "pytorch"
  },
  "language_info": {
   "codemirror_mode": {
    "name": "ipython",
    "version": 3
   },
   "file_extension": ".py",
   "mimetype": "text/x-python",
   "name": "python",
   "nbconvert_exporter": "python",
   "pygments_lexer": "ipython3",
   "version": "3.8.10"
  }
 },
 "nbformat": 4,
 "nbformat_minor": 5
}
