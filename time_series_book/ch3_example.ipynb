{
 "cells": [
  {
   "cell_type": "markdown",
   "id": "1158e45b",
   "metadata": {},
   "source": [
    "# Chapter 3\n",
    "## UK Min Temp"
   ]
  },
  {
   "cell_type": "code",
   "execution_count": 1,
   "id": "d411e219",
   "metadata": {},
   "outputs": [],
   "source": [
    "import pandas as pd\n",
    "import os\n",
    "import numpy as np\n",
    "import matplotlib.pyplot as plt\n",
    "import copy\n",
    "import random\n",
    "import sys\n",
    "\n",
    "from ch3.uk_temperature_prediction.raw_time_series import raw_time_series\n",
    "\n",
    "import torch\n",
    "import torch.nn.functional as F\n"
   ]
  },
  {
   "cell_type": "markdown",
   "id": "44e1786f",
   "metadata": {},
   "source": [
    "## Data"
   ]
  },
  {
   "cell_type": "code",
   "execution_count": 2,
   "id": "da87e644",
   "metadata": {},
   "outputs": [],
   "source": [
    "def raw_time_series(__file__):\n",
    "    dir_path = os.path.dirname(os.path.realpath(__file__))\n",
    "    ts_df = pd.read_csv(f'{dir_path}/data/MET_Office_Weather_Data.csv')\n",
    "    ts = ts_df.loc[ts_df['station'] == 'sheffield']['tmin']\n",
    "    return ts"
   ]
  },
  {
   "cell_type": "code",
   "execution_count": 3,
   "id": "cd7723b1",
   "metadata": {},
   "outputs": [
    {
     "name": "stdout",
     "output_type": "stream",
     "text": [
      "<class 'pandas.core.series.Series'>\n"
     ]
    }
   ],
   "source": [
    "ts_df = raw_time_series('/project/docker/pytorch_dev/time_series_book/ch3/uk_temperature_prediction/data/')\n",
    "print (type(ts_df))"
   ]
  },
  {
   "cell_type": "markdown",
   "id": "854eb3a3",
   "metadata": {},
   "source": [
    "## Analyze"
   ]
  },
  {
   "cell_type": "code",
   "execution_count": 4,
   "id": "709172a6",
   "metadata": {},
   "outputs": [],
   "source": [
    "ts = ts_df.tolist()"
   ]
  },
  {
   "cell_type": "code",
   "execution_count": 5,
   "id": "56bd3096",
   "metadata": {},
   "outputs": [
    {
     "name": "stdout",
     "output_type": "stream",
     "text": [
      "row count: 1650\n",
      "Max: 14.5\n",
      "Min: -4.2\n",
      "Avg: 6.22\n",
      "Median: 5.7\n",
      "Std: 4.04\n",
      "NA values: 27\n"
     ]
    }
   ],
   "source": [
    "print (f'row count: {len(ts)}')\n",
    "print (f'Max: {np.nanmax(ts)}')\n",
    "print (f'Min: {np.nanmin(ts)}')\n",
    "print (f'Avg: {round(np.nanmean(ts),2)}')\n",
    "print (f'Median: {round(np.nanmedian(ts),2)}')\n",
    "print (f'Std: {round(np.nanstd(ts), 2)}')\n",
    "print (f'NA values: {np.count_nonzero(np.isnan(ts))}')\n"
   ]
  },
  {
   "cell_type": "markdown",
   "id": "2f28b3d4",
   "metadata": {},
   "source": [
    "## Sliding Window Function"
   ]
  },
  {
   "cell_type": "code",
   "execution_count": 6,
   "id": "0d24431d",
   "metadata": {},
   "outputs": [],
   "source": [
    "def sliding_window(ts, features):\n",
    "    '''\n",
    "    ts = time series list\n",
    "    features = size of sliding window\n",
    "    '''\n",
    "    X = []\n",
    "    Y = []\n",
    "\n",
    "    for i in range(features + 1, len(ts) + 1):\n",
    "        X.append(ts[i - (features + 1):i - 1])\n",
    "        Y.append([ts[i - 1]])\n",
    "\n",
    "    return X, Y"
   ]
  },
  {
   "cell_type": "code",
   "execution_count": 7,
   "id": "509d9942",
   "metadata": {},
   "outputs": [
    {
     "name": "stdout",
     "output_type": "stream",
     "text": [
      "Time series: [0, 1, 2, 3, 4, 5]\n",
      "X: [[0, 1, 2], [1, 2, 3], [2, 3, 4]]\n",
      "Y: [[3], [4], [5]]\n"
     ]
    }
   ],
   "source": [
    "## test the function\n",
    "\n",
    "ts = list(range(6))\n",
    "X, Y = sliding_window(ts, 3)\n",
    "\n",
    "print(f'Time series: {ts}')\n",
    "print(f'X: {X}')\n",
    "print(f'Y: {Y}')"
   ]
  },
  {
   "cell_type": "markdown",
   "id": "19ddb64c",
   "metadata": {},
   "source": [
    "## Pre-Process"
   ]
  },
  {
   "cell_type": "code",
   "execution_count": 8,
   "id": "f358d017",
   "metadata": {},
   "outputs": [],
   "source": [
    "# ts must be a panda dataframe\n",
    "#  to use these methods\n",
    "def interpolated_time_series(ts_df):\n",
    "    ts_list = ts_df.interpolate().dropna().tolist()\n",
    "    return ts_list"
   ]
  },
  {
   "cell_type": "code",
   "execution_count": 9,
   "id": "92643ea6",
   "metadata": {},
   "outputs": [
    {
     "name": "stdout",
     "output_type": "stream",
     "text": [
      "<class 'list'>\n"
     ]
    }
   ],
   "source": [
    "interp_ts_list = interpolated_time_series(ts_df)\n",
    "print (type(interp_ts_list))"
   ]
  },
  {
   "cell_type": "code",
   "execution_count": 10,
   "id": "51a6eef7",
   "metadata": {},
   "outputs": [
    {
     "data": {
      "text/plain": [
       "<function matplotlib.pyplot.show(close=None, block=None)>"
      ]
     },
     "execution_count": 10,
     "metadata": {},
     "output_type": "execute_result"
    },
    {
     "data": {
      "image/png": "[encoded data removed]",
      "text/plain": [
       "<Figure size 432x288 with 1 Axes>"
      ]
     },
     "metadata": {
      "needs_background": "light"
     },
     "output_type": "display_data"
    }
   ],
   "source": [
    "plt.plot(interp_ts_list[-120:])\n",
    "plt.show"
   ]
  },
  {
   "cell_type": "code",
   "execution_count": 11,
   "id": "64464fe4",
   "metadata": {},
   "outputs": [],
   "source": [
    "def get_training_datasets(ts_df, features, test_len):\n",
    "    '''\n",
    "    ts_df = time series dataframe\n",
    "    features = sliding window size\n",
    "    test_len = \n",
    "    '''\n",
    "    ts = interpolated_time_series(ts_df)\n",
    "    X, Y = sliding_window(ts, features)\n",
    "\n",
    "    X_train, Y_train, X_test, Y_test = X[0:-test_len], \\\n",
    "                                       Y[0:-test_len], \\\n",
    "                                       X[-test_len:], \\\n",
    "                                       Y[-test_len:]\n",
    "\n",
    "    train_len = round(len(ts) * 0.7)\n",
    "\n",
    "    X_train, X_val, Y_train, Y_val = X_train[0:train_len],\\\n",
    "                                     X_train[train_len:],\\\n",
    "                                     Y_train[0:train_len],\\\n",
    "                                     Y_train[train_len:]\n",
    "\n",
    "    x_train = torch.tensor(data = X_train)\n",
    "    y_train = torch.tensor(data = Y_train)\n",
    "\n",
    "    x_val = torch.tensor(data = X_val)\n",
    "    y_val = torch.tensor(data = Y_val)\n",
    "\n",
    "    x_test = torch.tensor(data = X_test)\n",
    "    y_test = torch.tensor(data = Y_test)\n",
    "\n",
    "    return x_train, x_val, x_test, y_train, y_val, y_test"
   ]
  },
  {
   "cell_type": "markdown",
   "id": "c2d5cbb7",
   "metadata": {},
   "source": [
    "## Architecture\n",
    "\n",
    "### Layer 1 - convolution\n",
    "### Layer 2 - decision making\n",
    "\n",
    "### Hyperparameters:\n",
    "\n",
    "- n_inp: num of features, or length of sliding window\n",
    "- conv1_out: output channels in conv layer 1\n",
    "- conv1_kernel: kernel of conv layer 1\n",
    "- conv2_kernel: kernel of conv layer 2\n",
    "- drop1: probability of dropout layer\n",
    "- l_1: output for layer 1\n",
    "- l_2: output for layer 2"
   ]
  },
  {
   "cell_type": "code",
   "execution_count": 12,
   "id": "d46949ed",
   "metadata": {},
   "outputs": [],
   "source": [
    "class DL(torch.nn.Module):\n",
    "    def __init__(self, n_inp, l_1, l_2, conv1_out, conv1_kernel, conv2_kernel, drop1 = 0, n_out = 1):\n",
    "        super(DL, self).__init__()\n",
    "        conv1_out_ch = conv1_out\n",
    "        conv2_out_ch = conv1_out * 2\n",
    "        \n",
    "        conv1_kernel = conv1_kernel\n",
    "        conv2_kernel = conv2_kernel\n",
    "        \n",
    "        self.dropout_lin1 = drop1\n",
    "        self.pool = torch.nn.MaxPool1d(kernel_size = 2)\n",
    "        self.conv1 = torch.nn.Conv1d(in_channels = 1, out_channels = conv1_out_ch, \n",
    "                        kernel_size = conv1_kernel, padding = conv1_kernel - 1)\n",
    "        self.conv2 = torch.nn.Conv1d(in_channels = conv1_out_ch, out_channels = conv2_out_ch,\n",
    "                        kernel_size = conv2_kernel, padding = conv2_kernel - 1)\n",
    "        feature_tensor = self.feature_stack(torch.Tensor([[0] * n_inp]))\n",
    "        self.lin1 = torch.nn.Linear(feature_tensor.size()[1], l_1)\n",
    "        self.lin2 = torch.nn.Linear(l_1, l_2)\n",
    "        self.lin3 = torch.nn.Linear(l_2, n_out)\n",
    "    \n",
    "    def feature_stack(self, x):\n",
    "        x = x.unsqueeze(1)\n",
    "        x = F.relu(self.pool(self.conv1(x)))\n",
    "        x = F.relu(self.pool(self.conv2(x)))\n",
    "        x = x.flatten(start_dim = 1)\n",
    "        return x\n",
    "    \n",
    "    def fc_stack(self, x):\n",
    "        x1 = F.dropout(F.relu(self.lin1(x)), p = self.dropout_lin1)\n",
    "        x2 = F.relu(self.lin2(x1))\n",
    "        y = self.lin3(x2)\n",
    "        return y\n",
    "    \n",
    "    def forward(self, x):\n",
    "        x = self.feature_stack(x)\n",
    "        y = self.fc_stack(x)\n",
    "        return y"
   ]
  },
  {
   "cell_type": "markdown",
   "id": "1ee1415f",
   "metadata": {},
   "source": [
    "## Alternatives"
   ]
  },
  {
   "cell_type": "code",
   "execution_count": 13,
   "id": "b6aa9edd",
   "metadata": {},
   "outputs": [],
   "source": [
    "from statsmodels.tsa.statespace.sarimax import SARIMAX"
   ]
  },
  {
   "cell_type": "code",
   "execution_count": 14,
   "id": "385f4a77",
   "metadata": {},
   "outputs": [],
   "source": [
    "class SarimaxPredictor(torch.nn.Module):\n",
    "    def forward(self, x):\n",
    "        last_values = []\n",
    "        l = x.tolist()\n",
    "        \n",
    "        counter = 0\n",
    "        \n",
    "        for r in l:\n",
    "            model = SARIMAX(r,\n",
    "                order = (1,1,1),\n",
    "                seasonal_order = (1,1,1,12)\n",
    "                )\n",
    "            results = model.fit(disp = 0)\n",
    "            forecast = results.forecast()\n",
    "            last_values.append([forecast[0]])\n",
    "            counter = counter + 1\n",
    "            print (f'debug: SARIMA calculation {counter} / {len(l)}')\n",
    "            return torch.tensor(data = last_values)"
   ]
  },
  {
   "cell_type": "code",
   "execution_count": 15,
   "id": "c6552b10",
   "metadata": {},
   "outputs": [],
   "source": [
    "from statsmodels.tsa.holtwinters import ExponentialSmoothing"
   ]
  },
  {
   "cell_type": "code",
   "execution_count": 16,
   "id": "e30dea1b",
   "metadata": {},
   "outputs": [],
   "source": [
    "class HwesPredictor(torch.nn.Module):\n",
    "    def forward(self, x):\n",
    "        last_values = []\n",
    "        for r in x.tolist():\n",
    "            model = ExponentialSmoothing(r,\n",
    "                trend = None,\n",
    "                seasonal = \"add\",\n",
    "                seasonal_periods = 12\n",
    "                )\n",
    "            results = model.fit()\n",
    "            forecast = results.forecast()\n",
    "            last_values.append([forecast[0]])\n",
    "        \n",
    "        return torch.tensor(data = last_values)"
   ]
  },
  {
   "cell_type": "markdown",
   "id": "4bac7f9b",
   "metadata": {},
   "source": [
    "# Full Example"
   ]
  },
  {
   "cell_type": "code",
   "execution_count": 17,
   "id": "67b2cd69",
   "metadata": {},
   "outputs": [
    {
     "data": {
      "text/plain": [
       "<torch._C.Generator at 0x7efb290d3f90>"
      ]
     },
     "execution_count": 17,
     "metadata": {},
     "output_type": "execute_result"
    }
   ],
   "source": [
    "random.seed(1)\n",
    "torch.manual_seed(1)"
   ]
  },
  {
   "cell_type": "code",
   "execution_count": 18,
   "id": "0adeee78",
   "metadata": {},
   "outputs": [],
   "source": [
    "features = 120   # 10 year observation"
   ]
  },
  {
   "cell_type": "code",
   "execution_count": 19,
   "id": "633c8961",
   "metadata": {},
   "outputs": [],
   "source": [
    "x_train, x_val, x_test, y_train, y_val, y_test = get_training_datasets(ts_df, features, 60)"
   ]
  },
  {
   "cell_type": "markdown",
   "id": "fc46f3c0",
   "metadata": {},
   "source": [
    "## Initialing Models"
   ]
  },
  {
   "cell_type": "code",
   "execution_count": 20,
   "id": "4fbed13d",
   "metadata": {},
   "outputs": [
    {
     "data": {
      "text/plain": [
       "DL(\n",
       "  (pool): MaxPool1d(kernel_size=2, stride=2, padding=0, dilation=1, ceil_mode=False)\n",
       "  (conv1): Conv1d(1, 6, kernel_size=(36,), stride=(1,), padding=(35,))\n",
       "  (conv2): Conv1d(6, 12, kernel_size=(12,), stride=(1,), padding=(11,))\n",
       "  (lin1): Linear(in_features=528, out_features=400, bias=True)\n",
       "  (lin2): Linear(in_features=400, out_features=48, bias=True)\n",
       "  (lin3): Linear(in_features=48, out_features=1, bias=True)\n",
       ")"
      ]
     },
     "execution_count": 20,
     "metadata": {},
     "output_type": "execute_result"
    }
   ],
   "source": [
    "# hyperparameter values\n",
    "net = DL(\n",
    "    n_inp = 120,\n",
    "    l_1 = 400,\n",
    "    l_2 = 48,\n",
    "    conv1_out = 6,\n",
    "    conv1_kernel = 36,\n",
    "    conv2_kernel = 12,\n",
    "    drop1 = 0.1\n",
    ")\n",
    "net.train()"
   ]
  },
  {
   "cell_type": "code",
   "execution_count": 21,
   "id": "abcc811e",
   "metadata": {},
   "outputs": [],
   "source": [
    "sarima_predictor = SarimaxPredictor()"
   ]
  },
  {
   "cell_type": "code",
   "execution_count": 22,
   "id": "dfefd7db",
   "metadata": {},
   "outputs": [],
   "source": [
    "hwes_predictor = HwesPredictor()"
   ]
  },
  {
   "cell_type": "markdown",
   "id": "9e5f498f",
   "metadata": {},
   "source": [
    "## Loss & Optimization"
   ]
  },
  {
   "cell_type": "code",
   "execution_count": 23,
   "id": "f2310bc2",
   "metadata": {},
   "outputs": [],
   "source": [
    "optimizer = torch.optim.Adam(params = net.parameters())\n",
    "abs_loss = torch.nn.L1Loss()"
   ]
  },
  {
   "cell_type": "markdown",
   "id": "e70c9015",
   "metadata": {},
   "source": [
    "## Training"
   ]
  },
  {
   "cell_type": "code",
   "execution_count": 24,
   "id": "881df27e",
   "metadata": {},
   "outputs": [],
   "source": [
    "best_model = None\n",
    "min_val_loss = sys.maxsize\n",
    "training_loss = []\n",
    "validation_loss = []"
   ]
  },
  {
   "cell_type": "code",
   "execution_count": 26,
   "id": "80a6359f",
   "metadata": {},
   "outputs": [
    {
     "name": "stdout",
     "output_type": "stream",
     "text": [
      "epoch 0: train - 5.6036 val: - 5.4287\n",
      "epoch 10: train - 2.3853 val: - 2.3218\n",
      "epoch 20: train - 1.3021 val: - 1.329\n",
      "epoch 30: train - 1.0357 val: - 0.9396\n",
      "epoch 40: train - 1.0206 val: - 1.0119\n",
      "epoch 50: train - 1.0113 val: - 0.9639\n",
      "epoch 60: train - 1.0 val: - 0.9783\n",
      "epoch 70: train - 0.9933 val: - 0.9998\n",
      "epoch 80: train - 0.9849 val: - 0.9605\n",
      "epoch 90: train - 0.9679 val: - 0.9873\n",
      "epoch 100: train - 0.9638 val: - 1.0061\n",
      "epoch 110: train - 0.966 val: - 1.0034\n",
      "epoch 120: train - 0.9574 val: - 0.9838\n",
      "epoch 130: train - 0.9412 val: - 0.9749\n",
      "epoch 140: train - 0.9264 val: - 0.9949\n"
     ]
    }
   ],
   "source": [
    "for t in range(150):\n",
    "    prediction = net(x_train)\n",
    "    \n",
    "    loss = abs_loss(prediction, y_train)\n",
    "    optimizer.zero_grad()\n",
    "    loss.backward()\n",
    "    optimizer.step()\n",
    "    \n",
    "    val_prediction = net(x_val)\n",
    "    val_loss = abs_loss(val_prediction, y_val)\n",
    "    \n",
    "    training_loss.append(loss.item())\n",
    "    validation_loss.append(val_loss.item())\n",
    "    \n",
    "    if val_loss.item() < min_val_loss:\n",
    "        best_model = copy.deepcopy(net)\n",
    "        min_val_loss = val_loss.item()\n",
    "        \n",
    "    if t % 10 == 0:\n",
    "        print(f'epoch {t}: train - {round(loss.item(), 4)} '\n",
    "              f'val: - {round(val_loss.item(), 4)}')\n",
    "              "
   ]
  },
  {
   "cell_type": "markdown",
   "id": "9089e0ee",
   "metadata": {},
   "source": [
    "## Evaluation using test data"
   ]
  },
  {
   "cell_type": "code",
   "execution_count": 33,
   "id": "24cb3252",
   "metadata": {},
   "outputs": [],
   "source": [
    "net.eval()\n",
    "dl_prediction= best_model(x_test)\n",
    "dl_abs_loss = round(abs_loss(dl_prediction, y_test).item(), 4)               "
   ]
  },
  {
   "cell_type": "code",
   "execution_count": 34,
   "id": "2aba12f2",
   "metadata": {},
   "outputs": [
    {
     "name": "stdout",
     "output_type": "stream",
     "text": [
      "debug: SARIMA calculation 1 / 60\n"
     ]
    },
    {
     "name": "stderr",
     "output_type": "stream",
     "text": [
      "/home/jay/.local/lib/python3.8/site-packages/torch/nn/modules/loss.py:96: UserWarning: Using a target size (torch.Size([60, 1])) that is different to the input size (torch.Size([1, 1])). This will likely lead to incorrect results due to broadcasting. Please ensure they have the same size.\n",
      "  return F.l1_loss(input, target, reduction=self.reduction)\n"
     ]
    }
   ],
   "source": [
    "sarima_prediction = sarima_predictor(x_test)\n",
    "sarima_abs_loss = round(abs_loss(sarima_prediction, y_test).item(), 4)"
   ]
  },
  {
   "cell_type": "code",
   "execution_count": 35,
   "id": "70395fc2",
   "metadata": {},
   "outputs": [],
   "source": [
    "hwes_prediction = hwes_predictor(x_test)\n",
    "hwes_abs_loss = round(abs_loss(hwes_prediction, y_test).item(), 4)"
   ]
  },
  {
   "cell_type": "code",
   "execution_count": 37,
   "id": "d7cd8326",
   "metadata": {},
   "outputs": [
    {
     "name": "stdout",
     "output_type": "stream",
     "text": [
      "DL Loss: 0.8651\n",
      "SARIMA Loss: 5.4629\n",
      "HWES Loss 1.0405\n"
     ]
    }
   ],
   "source": [
    "print (f'DL Loss: {dl_abs_loss}')\n",
    "print (f'SARIMA Loss: {sarima_abs_loss}')\n",
    "print (f'HWES Loss {hwes_abs_loss}')"
   ]
  },
  {
   "cell_type": "code",
   "execution_count": 38,
   "id": "af21c8c7",
   "metadata": {},
   "outputs": [
    {
     "data": {
      "image/png": "[encoded data removed]",
      "text/plain": [
       "<Figure size 432x288 with 1 Axes>"
      ]
     },
     "metadata": {
      "needs_background": "light"
     },
     "output_type": "display_data"
    }
   ],
   "source": [
    "plt.title(\"Training Progress\")\n",
    "plt.plot(training_loss, label = 'training loss')\n",
    "plt.plot(validation_loss, label = 'validation loss')\n",
    "plt.legend\n",
    "plt.show()"
   ]
  },
  {
   "cell_type": "markdown",
   "id": "aabdc281",
   "metadata": {},
   "source": [
    "# Visualize the Graph"
   ]
  },
  {
   "cell_type": "code",
   "execution_count": 54,
   "id": "20d7fedc",
   "metadata": {},
   "outputs": [],
   "source": [
    "from torchviz import make_dot\n",
    "import matplotlib.image as mpimg"
   ]
  },
  {
   "cell_type": "code",
   "execution_count": 55,
   "id": "5acc1453",
   "metadata": {},
   "outputs": [],
   "source": [
    "yhat = net(x_train)"
   ]
  },
  {
   "cell_type": "code",
   "execution_count": 56,
   "id": "4b359cc2",
   "metadata": {},
   "outputs": [],
   "source": [
    "param_dict = dict(list(net.named_parameters()))"
   ]
  },
  {
   "cell_type": "code",
   "execution_count": 57,
   "id": "508e8fa6",
   "metadata": {},
   "outputs": [],
   "source": [
    "make_dot(yhat, params=param_dict).render(\"ch3_example_torchviz\", format=\"png\")\n",
    "img = mpimg.imread('ch3_example_torchviz.png')"
   ]
  },
  {
   "cell_type": "code",
   "execution_count": 58,
   "id": "15e0e1cb",
   "metadata": {},
   "outputs": [
    {
     "data": {
      "text/plain": [
       "<matplotlib.image.AxesImage at 0x7efb0da3d190>"
      ]
     },
     "execution_count": 58,
     "metadata": {},
     "output_type": "execute_result"
    },
    {
     "data": {
      "image/png": "[encoded data removed]",
      "text/plain": [
       "<Figure size 432x288 with 1 Axes>"
      ]
     },
     "metadata": {},
     "output_type": "display_data"
    }
   ],
   "source": [
    "plt.xticks([])\n",
    "plt.yticks([])\n",
    "plt.imshow(img)"
   ]
  },
  {
   "cell_type": "code",
   "execution_count": null,
   "id": "f8115acf",
   "metadata": {},
   "outputs": [],
   "source": []
  }
 ],
 "metadata": {
  "kernelspec": {
   "display_name": "pytorch",
   "language": "python",
   "name": "pytorch"
  },
  "language_info": {
   "codemirror_mode": {
    "name": "ipython",
    "version": 3
   },
   "file_extension": ".py",
   "mimetype": "text/x-python",
   "name": "python",
   "nbconvert_exporter": "python",
   "pygments_lexer": "ipython3",
   "version": "3.8.10"
  }
 },
 "nbformat": 4,
 "nbformat_minor": 5
}
